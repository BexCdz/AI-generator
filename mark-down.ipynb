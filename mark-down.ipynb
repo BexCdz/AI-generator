{
  "nbformat": 4,
  "nbformat_minor": 0,
  "metadata": {
    "colab": {
      "provenance": [],
      "authorship_tag": "ABX9TyMp8Lf/eD6b6eOcacA++m2x",
      "include_colab_link": true
    },
    "kernelspec": {
      "name": "python3",
      "display_name": "Python 3"
    },
    "language_info": {
      "name": "python"
    }
  },
  "cells": [
    {
      "cell_type": "markdown",
      "metadata": {
        "id": "view-in-github",
        "colab_type": "text"
      },
      "source": [
        "<a href=\"https://colab.research.google.com/github/BexCdz/AI-generator/blob/main/mark-down.ipynb\" target=\"_parent\"><img src=\"https://colab.research.google.com/assets/colab-badge.svg\" alt=\"Open In Colab\"/></a>"
      ]
    },
    {
      "cell_type": "code",
      "execution_count": 7,
      "metadata": {
        "colab": {
          "base_uri": "https://localhost:8080/",
          "height": 209
        },
        "id": "vi_d7p2fe-Yf",
        "outputId": "cdbb9dfd-93eb-49a0-d7b6-125a925f71c4"
      },
      "outputs": [
        {
          "output_type": "display_data",
          "data": {
            "text/plain": [
              "\u001b[1mSpicy Carbonara Recipe\u001b[0m 🍝🔥                                                                                        \n",
              "\n",
              "\u001b[1;33m 1 \u001b[0mCook 400g spaghetti in salted boiling water until al dente. Drain, reserving some pasta water.                  \n",
              "\u001b[1;33m 2 \u001b[0mIn a bowl, whisk together 3 large eggs, 100g grated Parmesan cheese, and a pinch of black pepper.               \n",
              "\u001b[1;33m 3 \u001b[0mIn a pan, sauté 150g diced pancetta and 2 minced garlic cloves until crispy 🍖🧄.                               \n",
              "\u001b[1;33m 4 \u001b[0mAdd 1 chopped red chili (or more for heat) to the pancetta and cook for 1 min 🌶️.                                \n",
              "\u001b[1;33m 5 \u001b[0mToss the hot pasta into the pan, combining well, then remove from heat.                                         \n",
              "\u001b[1;33m 6 \u001b[0mQuickly mix in the egg and cheese mixture, adding reserved pasta water to create a creamy sauce.                \n",
              "\u001b[1;33m 7 \u001b[0mServe immediately, garnished with extra Parmesan and chopped parsley 🌿.                                        \n",
              "\n",
              "Enjoy your spicy twist on carbonara! 😋                                                                            \n"
            ],
            "text/html": [
              "<pre style=\"white-space:pre;overflow-x:auto;line-height:normal;font-family:Menlo,'DejaVu Sans Mono',consolas,'Courier New',monospace\"><span style=\"font-weight: bold\">Spicy Carbonara Recipe</span> 🍝🔥                                                                                        \n",
              "\n",
              "<span style=\"color: #808000; text-decoration-color: #808000; font-weight: bold\"> 1 </span>Cook 400g spaghetti in salted boiling water until al dente. Drain, reserving some pasta water.                  \n",
              "<span style=\"color: #808000; text-decoration-color: #808000; font-weight: bold\"> 2 </span>In a bowl, whisk together 3 large eggs, 100g grated Parmesan cheese, and a pinch of black pepper.               \n",
              "<span style=\"color: #808000; text-decoration-color: #808000; font-weight: bold\"> 3 </span>In a pan, sauté 150g diced pancetta and 2 minced garlic cloves until crispy 🍖🧄.                               \n",
              "<span style=\"color: #808000; text-decoration-color: #808000; font-weight: bold\"> 4 </span>Add 1 chopped red chili (or more for heat) to the pancetta and cook for 1 min 🌶️.                                \n",
              "<span style=\"color: #808000; text-decoration-color: #808000; font-weight: bold\"> 5 </span>Toss the hot pasta into the pan, combining well, then remove from heat.                                         \n",
              "<span style=\"color: #808000; text-decoration-color: #808000; font-weight: bold\"> 6 </span>Quickly mix in the egg and cheese mixture, adding reserved pasta water to create a creamy sauce.                \n",
              "<span style=\"color: #808000; text-decoration-color: #808000; font-weight: bold\"> 7 </span>Serve immediately, garnished with extra Parmesan and chopped parsley 🌿.                                        \n",
              "\n",
              "Enjoy your spicy twist on carbonara! 😋                                                                            \n",
              "</pre>\n"
            ]
          },
          "metadata": {}
        }
      ],
      "source": [
        "import requests\n",
        "from rich import print\n",
        "from rich.markdown import Markdown\n",
        "\n",
        "\n",
        "prompt = \"Please provide a recipe for a spicy carbonara recipe in less than 10 lines, you can include emojis \"\n",
        "api_key = \"6eo2f8064f04d58b91065a4e4bb3c0t3\"\n",
        "api_url = f\"https://api.shecodes.io/ai/v1/generate?prompt={prompt}&key={api_key}\"\n",
        "\n",
        "response = requests.get(api_url)\n",
        "response_data = response.json()\n",
        "markdown_text = Markdown(response_data['answer'])\n",
        "\n",
        "print(markdown_text)\n"
      ]
    }
  ]
}