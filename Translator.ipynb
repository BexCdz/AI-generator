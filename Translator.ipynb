{
  "nbformat": 4,
  "nbformat_minor": 0,
  "metadata": {
    "colab": {
      "provenance": [],
      "authorship_tag": "ABX9TyNkppUOAZzI+t34TWlFtXXP",
      "include_colab_link": true
    },
    "kernelspec": {
      "name": "python3",
      "display_name": "Python 3"
    },
    "language_info": {
      "name": "python"
    }
  },
  "cells": [
    {
      "cell_type": "markdown",
      "metadata": {
        "id": "view-in-github",
        "colab_type": "text"
      },
      "source": [
        "<a href=\"https://colab.research.google.com/github/BexCdz/AI-generator/blob/main/Translator.ipynb\" target=\"_parent\"><img src=\"https://colab.research.google.com/assets/colab-badge.svg\" alt=\"Open In Colab\"/></a>"
      ]
    },
    {
      "cell_type": "code",
      "execution_count": 6,
      "metadata": {
        "colab": {
          "base_uri": "https://localhost:8080/"
        },
        "id": "DX2qgRR_aG-0",
        "outputId": "209bedda-4aaa-432b-a0b2-5f0a8073d436"
      },
      "outputs": [
        {
          "output_type": "stream",
          "name": "stdout",
          "text": [
            "Please provide a word in any langauge.hello\n",
            "United States 🇺🇸\n"
          ]
        }
      ],
      "source": [
        "\n",
        "import requests\n",
        "\n",
        "word = input(\"Please provide a word in any langauge.\")\n",
        "\n",
        "api_key = \"6eo2f8064f04d58b91065a4e4bb3c0t3\"\n",
        "context = \"You are a useful language assistant that can determine the country origin from any word\"\n",
        "prompt = f\"What country is this language from {word}? please provide only the county name and an emoji of the country, thankyou\"\n",
        "api_url = f\"https://api.shecodes.io/ai/v1/generate?prompt={prompt}&context={context}&key={api_key}\"\n",
        "\n",
        "\n",
        "response = requests.get(api_url)\n",
        "\n",
        "country = response.json()\n",
        "\n",
        "print(country ['answer'])\n",
        "\n"
      ]
    }
  ]
}